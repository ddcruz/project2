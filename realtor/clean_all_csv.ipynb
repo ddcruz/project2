{
 "cells": [
  {
   "cell_type": "code",
   "execution_count": 1,
   "metadata": {},
   "outputs": [],
   "source": [
    "import pandas as pd\n",
    "import datetime as dt"
   ]
  },
  {
   "cell_type": "code",
   "execution_count": 2,
   "metadata": {},
   "outputs": [
    {
     "name": "stderr",
     "output_type": "stream",
     "text": [
      "/anaconda3/envs/re_project_env/lib/python3.6/site-packages/IPython/core/interactiveshell.py:3044: DtypeWarning: Columns (3) have mixed types. Specify dtype option on import or set low_memory=False.\n",
      "  interactivity=interactivity, compiler=compiler, result=result)\n"
     ]
    }
   ],
   "source": [
    "zipcode_url=\"https://s3-us-west-2.amazonaws.com/econresearch/Reports/Core/RDC_InventoryCoreMetrics_Zip_Hist.csv\"\n",
    "zipcode_df=pd.read_csv(zipcode_url)"
   ]
  },
  {
   "cell_type": "code",
   "execution_count": 3,
   "metadata": {},
   "outputs": [],
   "source": [
    "# zipcode_df.head()"
   ]
  },
  {
   "cell_type": "code",
   "execution_count": 4,
   "metadata": {},
   "outputs": [],
   "source": [
    "clean_zipcode_df = zipcode_df.drop(columns =\"Footnote\")"
   ]
  },
  {
   "cell_type": "code",
   "execution_count": 5,
   "metadata": {},
   "outputs": [
    {
     "name": "stderr",
     "output_type": "stream",
     "text": [
      "/anaconda3/envs/re_project_env/lib/python3.6/site-packages/IPython/core/interactiveshell.py:3044: DtypeWarning: Columns (4) have mixed types. Specify dtype option on import or set low_memory=False.\n",
      "  interactivity=interactivity, compiler=compiler, result=result)\n"
     ]
    }
   ],
   "source": [
    "county_url=\"https://s3-us-west-2.amazonaws.com/econresearch/Reports/Core/RDC_InventoryCoreMetrics_County_Hist.csv\"\n",
    "county_df=pd.read_csv(county_url)"
   ]
  },
  {
   "cell_type": "code",
   "execution_count": 6,
   "metadata": {},
   "outputs": [],
   "source": [
    "# county.head()"
   ]
  },
  {
   "cell_type": "code",
   "execution_count": 7,
   "metadata": {},
   "outputs": [],
   "source": [
    "clean_county_df=county_df.drop(columns=\"Footnote\")"
   ]
  },
  {
   "cell_type": "code",
   "execution_count": 8,
   "metadata": {},
   "outputs": [],
   "source": [
    "metro_url=\"https://s3-us-west-2.amazonaws.com/econresearch/Reports/Core/RDC_InventoryCoreMetrics_Metro_Hist.csv\"\n",
    "metro_df=pd.read_csv(metro_url)"
   ]
  },
  {
   "cell_type": "code",
   "execution_count": 9,
   "metadata": {},
   "outputs": [],
   "source": [
    "# metro_df.head()"
   ]
  },
  {
   "cell_type": "code",
   "execution_count": 10,
   "metadata": {},
   "outputs": [],
   "source": [
    "clean_metro_df=metro_df.drop(columns=\"Footnote\")"
   ]
  },
  {
   "cell_type": "code",
   "execution_count": 11,
   "metadata": {},
   "outputs": [],
   "source": [
    "state_url=\"https://s3-us-west-2.amazonaws.com/econresearch/Reports/Core/RDC_InventoryCoreMetrics_State_Hist.csv\"\n",
    "state_df=pd.read_csv(state_url)"
   ]
  },
  {
   "cell_type": "code",
   "execution_count": 12,
   "metadata": {},
   "outputs": [],
   "source": [
    "# state_df.head()"
   ]
  },
  {
   "cell_type": "code",
   "execution_count": 13,
   "metadata": {},
   "outputs": [],
   "source": [
    "clean_zipcode_df = clean_zipcode_df[:-1]\n",
    "clean_county_df = clean_county_df[:-1]\n",
    "clean_metro_df = clean_metro_df[:-1]\n",
    "clean_state_df = state_df[:-1]"
   ]
  },
  {
   "cell_type": "code",
   "execution_count": 14,
   "metadata": {},
   "outputs": [
    {
     "name": "stderr",
     "output_type": "stream",
     "text": [
      "/anaconda3/envs/re_project_env/lib/python3.6/site-packages/ipykernel_launcher.py:8: SettingWithCopyWarning: \n",
      "A value is trying to be set on a copy of a slice from a DataFrame.\n",
      "Try using .loc[row_indexer,col_indexer] = value instead\n",
      "\n",
      "See the caveats in the documentation: http://pandas.pydata.org/pandas-docs/stable/indexing.html#indexing-view-versus-copy\n",
      "  \n"
     ]
    }
   ],
   "source": [
    "for x in clean_zipcode_df.columns:\n",
    "    clean_zipcode_df[x] = clean_zipcode_df[x].fillna(0)\n",
    "for x in clean_county_df.columns:\n",
    "    clean_county_df[x] = clean_county_df[x].fillna(0)\n",
    "for x in clean_metro_df.columns:\n",
    "    clean_metro_df[x] = clean_metro_df[x].fillna(0)\n",
    "for x in clean_state_df.columns:\n",
    "    clean_state_df[x] = clean_state_df[x].fillna(0)"
   ]
  },
  {
   "cell_type": "code",
   "execution_count": 15,
   "metadata": {},
   "outputs": [],
   "source": [
    "clean_zipcode_df = clean_zipcode_df.rename(columns={'Month':'Date'})\n",
    "clean_county_df = clean_county_df.rename(columns={'Month':'Date'})\n",
    "clean_metro_df = clean_metro_df.rename(columns={'Month':'Date'})\n",
    "clean_state_df = clean_state_df.rename(columns={'Month':'Date'})"
   ]
  },
  {
   "cell_type": "code",
   "execution_count": 16,
   "metadata": {},
   "outputs": [
    {
     "name": "stdout",
     "output_type": "stream",
     "text": [
      "<class 'str'>\n",
      "<class 'str'>\n"
     ]
    }
   ],
   "source": [
    "print(type(clean_state_df[\"Date\"][0]))\n",
    "print(type(clean_zipcode_df[\"Date\"][0]))\n"
   ]
  },
  {
   "cell_type": "code",
   "execution_count": 17,
   "metadata": {},
   "outputs": [],
   "source": [
    "clean_state_df[\"Date\"] = pd.to_datetime(clean_state_df[\"Date\"])"
   ]
  },
  {
   "cell_type": "code",
   "execution_count": 18,
   "metadata": {},
   "outputs": [],
   "source": [
    "clean_zipcode_df['Date'] = clean_zipcode_df['Date'].apply(lambda x: dt.datetime.strptime(x, '%Y-%m-%d %H:%M:%S'))\n",
    "clean_county_df['Date'] = clean_county_df['Date'].apply(lambda x: dt.datetime.strptime(x, '%Y-%m-%d %H:%M:%S'))\n",
    "clean_metro_df['Date'] = clean_metro_df['Date'].apply(lambda x: dt.datetime.strptime(x, '%Y-%m-%d %H:%M:%S'))\n"
   ]
  },
  {
   "cell_type": "code",
   "execution_count": 19,
   "metadata": {},
   "outputs": [],
   "source": [
    "# clean_zipcode_df.head()"
   ]
  },
  {
   "cell_type": "code",
   "execution_count": 20,
   "metadata": {},
   "outputs": [],
   "source": [
    "# clean_county_df.head()"
   ]
  },
  {
   "cell_type": "code",
   "execution_count": 21,
   "metadata": {},
   "outputs": [],
   "source": [
    "# clean_metro_df.head()"
   ]
  },
  {
   "cell_type": "code",
   "execution_count": 22,
   "metadata": {},
   "outputs": [],
   "source": [
    "# clean_state_df.head()"
   ]
  },
  {
   "cell_type": "code",
   "execution_count": null,
   "metadata": {},
   "outputs": [],
   "source": []
  },
  {
   "cell_type": "code",
   "execution_count": 23,
   "metadata": {},
   "outputs": [],
   "source": [
    "clean_zipcode_df[\"Year\"] = clean_zipcode_df[\"Date\"].apply(lambda x: f\"{x.year}\")\n",
    "clean_county_df[\"Year\"] = clean_county_df[\"Date\"].apply(lambda x: f\"{x.year}\")\n",
    "clean_metro_df[\"Year\"] = clean_metro_df[\"Date\"].apply(lambda x: f\"{x.year}\")\n",
    "clean_state_df[\"Year\"] = clean_state_df[\"Date\"].apply(lambda x: f\"{x.year}\")"
   ]
  },
  {
   "cell_type": "code",
   "execution_count": 24,
   "metadata": {},
   "outputs": [],
   "source": [
    "clean_zipcode_df[\"Year/Month\"] = clean_zipcode_df[\"Date\"].apply(lambda x: f\"{x.year}/{x.month}\")\n",
    "clean_county_df[\"Year/Month\"] = clean_county_df[\"Date\"].apply(lambda x: f\"{x.year}/{x.month}\")\n",
    "clean_metro_df[\"Year/Month\"] = clean_metro_df[\"Date\"].apply(lambda x: f\"{x.year}/{x.month}\")\n",
    "clean_state_df[\"Year/Month\"] = clean_state_df[\"Date\"].apply(lambda x: f\"{x.year}/{x.month}\")"
   ]
  },
  {
   "cell_type": "code",
   "execution_count": 25,
   "metadata": {},
   "outputs": [
    {
     "name": "stdout",
     "output_type": "stream",
     "text": [
      "Index(['Date', 'ZipCode', 'ZipName', 'Median Listing Price',\n",
      "       'Median Listing Price M/M', 'Median Listing Price Y/Y',\n",
      "       'Active Listing Count ', 'Active Listing Count M/M',\n",
      "       'Active Listing Count Y/Y', 'Days on Market ', 'Days on Market M/M',\n",
      "       'Days on Market Y/Y', 'New Listing Count ', 'New Listing Count M/M',\n",
      "       'New Listing Count Y/Y', 'Price Increase Count ',\n",
      "       'Price Increase Count M/M', 'Price Increase Count Y/Y',\n",
      "       'Price Decrease Count ', 'Price Decrease Count M/M',\n",
      "       'Price Decrease Count Y/Y', 'Pending Listing Count ',\n",
      "       'Pending Listing Count M/M', 'Pending Listing Count Y/Y',\n",
      "       'Avg Listing Price', 'Avg Listing Price M/M', 'Avg Listing Price Y/Y',\n",
      "       'Total Listing Count', 'Total Listing Count M/M',\n",
      "       'Total Listing Count Y/Y', 'Pending Ratio', 'Pending Ratio M/M',\n",
      "       'Pending Ratio Y/Y', 'Year', 'Year/Month'],\n",
      "      dtype='object')\n"
     ]
    }
   ],
   "source": [
    "# clean_zipcode_df.head()\n",
    "print(clean_zipcode_df.columns)"
   ]
  },
  {
   "cell_type": "code",
   "execution_count": 26,
   "metadata": {},
   "outputs": [
    {
     "name": "stdout",
     "output_type": "stream",
     "text": [
      "Index(['Date', 'CountyFIPS', 'CountyName', 'Nielsen Rank',\n",
      "       'Median Listing Price', 'Median Listing Price M/M',\n",
      "       'Median Listing Price Y/Y', 'Active Listing Count ',\n",
      "       'Active Listing Count M/M', 'Active Listing Count Y/Y',\n",
      "       'Days on Market ', 'Days on Market M/M', 'Days on Market Y/Y',\n",
      "       'New Listing Count ', 'New Listing Count M/M', 'New Listing Count Y/Y',\n",
      "       'Price Increase Count ', 'Price Increase Count M/M',\n",
      "       'Price Increase Count Y/Y', 'Price Decrease Count ',\n",
      "       'Price Decrease Count M/M', 'Price Decrease Count Y/Y',\n",
      "       'Pending Listing Count ', 'Pending Listing Count M/M',\n",
      "       'Pending Listing Count Y/Y', 'Avg Listing Price',\n",
      "       'Avg Listing Price M/M', 'Avg Listing Price Y/Y', 'Total Listing Count',\n",
      "       'Total Listing Count M/M', 'Total Listing Count Y/Y', 'Pending Ratio',\n",
      "       'Pending Ratio M/M', 'Pending Ratio Y/Y', 'Year', 'Year/Month'],\n",
      "      dtype='object')\n"
     ]
    }
   ],
   "source": [
    "# clean_county_df.head()\n",
    "print(clean_county_df.columns)"
   ]
  },
  {
   "cell_type": "code",
   "execution_count": 27,
   "metadata": {},
   "outputs": [
    {
     "name": "stdout",
     "output_type": "stream",
     "text": [
      "Index(['Date', 'CBSACode', 'CBSATitle', 'Nielsen Rank', 'Median Listing Price',\n",
      "       'Median Listing Price M/M', 'Median Listing Price Y/Y',\n",
      "       'Active Listing Count ', 'Active Listing Count M/M',\n",
      "       'Active Listing Count Y/Y', 'Days on Market ', 'Days on Market M/M',\n",
      "       'Days on Market Y/Y', 'New Listing Count ', 'New Listing Count M/M',\n",
      "       'New Listing Count Y/Y', 'Price Increase Count ',\n",
      "       'Price Increase Count M/M', 'Price Increase Count Y/Y',\n",
      "       'Price Decrease Count ', 'Price Decrease Count M/M',\n",
      "       'Price Decrease Count Y/Y', 'Pending Listing Count ',\n",
      "       'Pending Listing Count M/M', 'Pending Listing Count Y/Y',\n",
      "       'Avg Listing Price', 'Avg Listing Price M/M', 'Avg Listing Price Y/Y',\n",
      "       'Total Listing Count', 'Total Listing Count M/M',\n",
      "       'Total Listing Count Y/Y', 'Pending Ratio', 'Pending Ratio M/M',\n",
      "       'Pending Ratio Y/Y', 'Year', 'Year/Month'],\n",
      "      dtype='object')\n"
     ]
    }
   ],
   "source": [
    "clean_metro_df.head()\n",
    "print(clean_metro_df.columns)"
   ]
  },
  {
   "cell_type": "code",
   "execution_count": 28,
   "metadata": {},
   "outputs": [
    {
     "name": "stdout",
     "output_type": "stream",
     "text": [
      "Index(['Date', 'StateID', 'State', 'Median Listing Price',\n",
      "       'Median Listing Price M/M', 'Median Listing Price Y/Y',\n",
      "       'Active Listing Count ', 'Active Listing Count M/M',\n",
      "       'Active Listing Count Y/Y', 'Days on Market ', 'Days on Market M/M',\n",
      "       'Days on Market Y/Y', 'New Listing Count ', 'New Listing Count M/M',\n",
      "       'New Listing Count Y/Y', 'Price Increase Count ',\n",
      "       'Price Increase Count M/M', 'Price Increase Count Y/Y',\n",
      "       'Price Decrease Count ', 'Price Decrease Count M/M',\n",
      "       'Price Decrease Count Y/Y', 'Pending Listing Count ',\n",
      "       'Pending Listing Count M/M', 'Pending Listing Count Y/Y',\n",
      "       'Median List Price Per Sqft', 'Median List Price Per Sqft M/M',\n",
      "       'Median List Price Per Sqft Y/Y', 'Median Listing Sqft',\n",
      "       'Median Listing Sqft M/M', 'Median Listing Sqft Y/Y',\n",
      "       'Avg Listing Price', 'Avg Listing Price M/M', 'Avg Listing Price Y/Y',\n",
      "       'Year', 'Year/Month'],\n",
      "      dtype='object')\n"
     ]
    }
   ],
   "source": [
    "clean_state_df.head()\n",
    "print(clean_state_df.columns)"
   ]
  },
  {
   "cell_type": "code",
   "execution_count": 29,
   "metadata": {},
   "outputs": [],
   "source": [
    "clean_zipcode_df.columns = clean_zipcode_df.columns.map(lambda x: x[:-1].lower() if x[-1] == \" \"  else x.lower()).map(lambda x: x.replace(\" \",\"_\")).map(lambda x: x.replace(\"/\",\"_\"))\n",
    "clean_county_df.columns = clean_county_df.columns.map(lambda x: x[:-1].lower() if x[-1] == \" \"  else x.lower()).map(lambda x: x.replace(\" \",\"_\")).map(lambda x: x.replace(\"/\",\"_\"))\n",
    "clean_metro_df.columns = clean_metro_df.columns.map(lambda x: x[:-1].lower() if x[-1] == \" \"  else x.lower()).map(lambda x: x.replace(\" \",\"_\")).map(lambda x: x.replace(\"/\",\"_\"))\n",
    "clean_state_df.columns = clean_state_df.columns.map(lambda x: x[:-1].lower() if x[-1] == \" \"  else x.lower()).map(lambda x: x.replace(\" \",\"_\")).map(lambda x: x.replace(\"/\",\"_\"))\n"
   ]
  },
  {
   "cell_type": "code",
   "execution_count": null,
   "metadata": {},
   "outputs": [],
   "source": [
    "\n"
   ]
  },
  {
   "cell_type": "code",
   "execution_count": null,
   "metadata": {},
   "outputs": [],
   "source": []
  }
 ],
 "metadata": {
  "kernelspec": {
   "display_name": "Python re_project_env",
   "language": "python",
   "name": "re_project_env"
  },
  "language_info": {
   "codemirror_mode": {
    "name": "ipython",
    "version": 3
   },
   "file_extension": ".py",
   "mimetype": "text/x-python",
   "name": "python",
   "nbconvert_exporter": "python",
   "pygments_lexer": "ipython3",
   "version": "3.6.8"
  }
 },
 "nbformat": 4,
 "nbformat_minor": 2
}
